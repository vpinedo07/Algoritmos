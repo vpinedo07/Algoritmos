{
 "cells": [
  {
   "metadata": {
    "jupyter": {
     "is_executing": true
    }
   },
   "cell_type": "code",
   "source": [
    "def calculate_pet_ages(human_years):\n",
    "    #Al primer año\n",
    "    if human_years == 1:\n",
    "        cat_years = 15\n",
    "        dog_years = 15\n",
    "    #Al segundo año\n",
    "    elif human_years == 2:\n",
    "        cat_years = 15 + 9\n",
    "        dog_years = 15 + 9\n",
    "    #Más de dos años\n",
    "    else:\n",
    "        cat_years = 15 + 9 + (human_years - 2) * 4\n",
    "        dog_years = 15 + 9 + (human_years - 2) * 5\n",
    "\n",
    "    #Devuelve una lista con los años humnos, gato y perro\n",
    "    return [human_years, cat_years, dog_years]\n"
   ],
   "id": "1b5894f1c15ded2b",
   "outputs": [],
   "execution_count": null
  },
  {
   "metadata": {},
   "cell_type": "code",
   "outputs": [],
   "execution_count": null,
   "source": "human_years = int(input(\"Dame los años humanos: \"))",
   "id": "b35b1c7ef5406fef"
  },
  {
   "metadata": {
    "jupyter": {
     "is_executing": true
    }
   },
   "cell_type": "code",
   "source": [
    "ages = calculate_pet_ages(human_years)\n",
    "print(\"Los años humanos son: \" + str(human_years))\n",
    "print(f\"Los años del gato son: {ages[1]}\")\n",
    "print(f\"Los años del perro son: {ages[2]}\")"
   ],
   "id": "2381ca784f699566",
   "outputs": [],
   "execution_count": null
  },
  {
   "metadata": {},
   "cell_type": "code",
   "outputs": [],
   "execution_count": null,
   "source": "",
   "id": "2608fade5474d2e1"
  }
 ],
 "metadata": {
  "kernelspec": {
   "display_name": "Python 3",
   "language": "python",
   "name": "python3"
  },
  "language_info": {
   "codemirror_mode": {
    "name": "ipython",
    "version": 2
   },
   "file_extension": ".py",
   "mimetype": "text/x-python",
   "name": "python",
   "nbconvert_exporter": "python",
   "pygments_lexer": "ipython2",
   "version": "2.7.6"
  }
 },
 "nbformat": 4,
 "nbformat_minor": 5
}
